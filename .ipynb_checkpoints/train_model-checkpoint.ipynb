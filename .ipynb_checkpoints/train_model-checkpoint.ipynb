{
 "cells": [
  {
   "cell_type": "code",
   "execution_count": null,
   "id": "8bedd739",
   "metadata": {},
   "outputs": [],
   "source": []
  },
  {
   "cell_type": "code",
   "execution_count": null,
   "id": "8ec81425",
   "metadata": {},
   "outputs": [],
   "source": [
    "import joblib\n",
    "\n",
    "# 保存训练好的XGBoost模型\n",
    "joblib.dump(model_xgb, 'xgb_model.pkl')\n",
    "\n",
    "# 保存特征列名（用于Streamlit输入匹配）\n",
    "feature_names = x_train.columns.tolist()  # 假设x_train是训练数据\n",
    "joblib.dump(feature_names, 'feature_names.pkl')\n",
    "\n",
    "# 保存分类字段选项（适配你的离散化/编码逻辑）\n",
    "category_options = {\n",
    "    'Contract': ['Month-to-month', 'One year', 'Two years'],\n",
    "    'PaymentMethod': ['Electronic check', 'Mailed check', 'Bank transfer', 'Credit card'],\n",
    "    'MonthlyCharges': ['1', '2', '3', '4'],  # 你的四分位标签\n",
    "    'TotalCharges': ['1', '2', '3', '4']\n",
    "}\n",
    "joblib.dump(category_options, 'category_options.pkl')"
   ]
  }
 ],
 "metadata": {
  "kernelspec": {
   "display_name": "Python 3 (ipykernel)",
   "language": "python",
   "name": "python3"
  },
  "language_info": {
   "codemirror_mode": {
    "name": "ipython",
    "version": 3
   },
   "file_extension": ".py",
   "mimetype": "text/x-python",
   "name": "python",
   "nbconvert_exporter": "python",
   "pygments_lexer": "ipython3",
   "version": "3.11.5"
  }
 },
 "nbformat": 4,
 "nbformat_minor": 5
}
