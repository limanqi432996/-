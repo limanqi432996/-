{
 "cells": [
  {
   "cell_type": "code",
   "execution_count": null,
   "id": "cb539618",
   "metadata": {},
   "outputs": [],
   "source": [
    "import streamlit as st\n",
    "import pandas as pd\n",
    "import joblib\n",
    "import numpy as np\n",
    "import matplotlib.pyplot as plt\n",
    "\n",
    "# 加载模型和数据\n",
    "model = joblib.load('xgb_model.pkl')\n",
    "feature_names = joblib.load('feature_names.pkl')\n",
    "category_options = joblib.load('category_options.pkl')\n",
    "\n",
    "# 页面设置\n",
    "st.title(\"电信用户流失预测系统\")\n",
    "st.markdown(\"\"\"\n",
    "**关键发现**：  \n",
    "- 在网时长（`tenure`）是最重要特征  \n",
    "- 使用**电子支票**的用户流失率更高  \n",
    "- 月费用≥第3分位的用户风险高  \n",
    "\"\"\")\n",
    "\n",
    "# --- 用户输入区域 ---\n",
    "st.sidebar.header(\"输入特征\")\n",
    "inputs = {}\n",
    "\n",
    "# 1. 关键特征（根据你的分析重点）\n",
    "inputs['tenure'] = st.sidebar.slider(\"在网时长（月）\", 0, 72, 12)\n",
    "inputs['Contract'] = st.sidebar.selectbox(\"合同类型\", category_options['Contract'])\n",
    "inputs['PaymentMethod'] = st.sidebar.selectbox(\"付款方式\", category_options['PaymentMethod'])\n",
    "inputs['MonthlyCharges'] = st.sidebar.selectbox(\"月费用分位\", category_options['MonthlyCharges'])\n",
    "\n",
    "# 2. 其他特征设默认值（非重点字段）\n",
    "for col in feature_names:\n",
    "    if col not in inputs:\n",
    "        inputs[col] = 0  # 数值型默认0，如果是分类字段需调整\n",
    "\n",
    "# --- 预测与结果展示 ---\n",
    "if st.sidebar.button(\"预测\"):\n",
    "    # 转换输入格式\n",
    "    input_df = pd.DataFrame([inputs])[feature_names]\n",
    "    \n",
    "    # 预测\n",
    "    proba = model.predict_proba(input_df)[0][1]\n",
    "    st.success(f\"流失概率: {proba:.1%}\")\n",
    "\n",
    "    # 高风险告警（基于你的分析）\n",
    "    if inputs['PaymentMethod'] == 'Electronic check' or inputs['MonthlyCharges'] in ['3', '4']:\n",
    "        st.error(\"⚠️ 高风险用户组合：电子支票 + 高月费\")\n",
    "\n",
    "    # 特征重要性可视化\n",
    "    st.subheader(\"模型认为最重要的特征\")\n",
    "    fig, ax = plt.subplots()\n",
    "    ax.barh(feature_names, model.feature_importances_)\n",
    "    st.pyplot(fig)"
   ]
  }
 ],
 "metadata": {
  "kernelspec": {
   "display_name": "Python 3 (ipykernel)",
   "language": "python",
   "name": "python3"
  },
  "language_info": {
   "codemirror_mode": {
    "name": "ipython",
    "version": 3
   },
   "file_extension": ".py",
   "mimetype": "text/x-python",
   "name": "python",
   "nbconvert_exporter": "python",
   "pygments_lexer": "ipython3",
   "version": "3.11.5"
  }
 },
 "nbformat": 4,
 "nbformat_minor": 5
}
