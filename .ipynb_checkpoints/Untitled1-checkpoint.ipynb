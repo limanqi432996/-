{
 "cells": [
  {
   "cell_type": "code",
   "execution_count": null,
   "id": "3319ed17",
   "metadata": {},
   "outputs": [],
   "source": [
    "#性别、老年人、配偶、亲属对应客户流失率的影响\n",
    "f,axes = plt.subplots(nrows=2,ncols=2,figsize=(10,10))\n",
    "\n",
    "plt.subplot(2,2,1)\n",
    "gender = sns.countplot(x = \"gender\",hue=\"Churn\",data = telcom, palette=\"Set1\")#palette设置颜色，主题色l2\n",
    "plt.xlabel('gender')\n",
    "plt.title('Churn by Gender')\n",
    "\n",
    "plt.subplot(2,2,2)\n",
    "gender = sns.countplot(x = \"SeniorCitizen\",hue=\"Churn\",data = telcom, palette=\"Set2\")#palette设置颜色，主题色l2\n",
    "plt.xlabel('SeniorCitizen')\n",
    "plt.title('Churn by SeniorCitizen')\n",
    "\n",
    "plt.subplot(2,2,3)\n",
    "gender = sns.countplot(x = \"Partner\",hue=\"Churn\",data = telcom, palette=\"colorblind\")#palette设置颜色，主题色l2\n",
    "plt.xlabel('Partner')\n",
    "plt.title('Churn by Partner')\n",
    "\n",
    "plt.subplot(2,2,4)\n",
    "gender = sns.countplot(x = \"Dependents\",hue=\"Churn\",data = telcom, palette=\"bright\")#palette设置颜色，主题色l2\n",
    "plt.xlabel('Dependents')\n",
    "plt.title('Churn by Dependents')\n",
    "plt.show()\n",
    "print(\"可以看出，男性与女性用户之间的流失情况基本没有差异，而在老年用户中流失占比明显比非老年用户更高，在所有数据中未婚与已婚人数基本持平，但未婚中流失人数比已婚中的流失人数高出了快一倍，从经济独立情况来看，经济未独立的用户流失率要远远高于经济独立的用户。\")"
   ]
  }
 ],
 "metadata": {
  "kernelspec": {
   "display_name": "Python 3 (ipykernel)",
   "language": "python",
   "name": "python3"
  },
  "language_info": {
   "codemirror_mode": {
    "name": "ipython",
    "version": 3
   },
   "file_extension": ".py",
   "mimetype": "text/x-python",
   "name": "python",
   "nbconvert_exporter": "python",
   "pygments_lexer": "ipython3",
   "version": "3.11.5"
  }
 },
 "nbformat": 4,
 "nbformat_minor": 5
}
